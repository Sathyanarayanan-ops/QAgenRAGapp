{
 "cells": [
  {
   "cell_type": "code",
   "execution_count": 23,
   "metadata": {},
   "outputs": [],
   "source": [
    "import logging\n",
    "import random\n",
    "import os\n",
    "import tempfile\n",
    "import streamlit as st\n",
    "from langchain_community.document_loaders import PyPDFLoader\n",
    "from langchain.text_splitter import RecursiveCharacterTextSplitter\n",
    "from langchain_community.vectorstores import Chroma\n",
    "from langchain.chains import LLMChain\n",
    "from langchain.prompts import PromptTemplate\n",
    "from langchain_groq import ChatGroq\n",
    "from langchain_experimental.text_splitter import SemanticChunker\n",
    "from langchain_community.vectorstores import FAISS\n",
    "from langchain_community.document_loaders import PyMuPDFLoader\n",
    "from langchain_community.document_loaders.generic import GenericLoader\n",
    "from langchain_community.document_loaders.parsers import GrobidParser\n",
    "from langchain_core.output_parsers import StrOutputParser\n",
    "from langchain_core.runnables import RunnablePassthrough\n",
    "from langchain_huggingface import HuggingFaceEmbeddings\n"
   ]
  },
  {
   "cell_type": "code",
   "execution_count": 24,
   "metadata": {},
   "outputs": [],
   "source": [
    "os.environ[\"GROQ_API_KEY\"] = \"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\""
   ]
  },
  {
   "cell_type": "code",
   "execution_count": 25,
   "metadata": {},
   "outputs": [],
   "source": [
    "llm = ChatGroq(\n",
    "        model= \"llama3-70b-8192\",\n",
    "        temperature=0,\n",
    "        max_tokens=None,\n",
    "        timeout=None,\n",
    "        max_retries=2\n",
    "    )"
   ]
  },
  {
   "cell_type": "code",
   "execution_count": 26,
   "metadata": {},
   "outputs": [],
   "source": [
    "# loader = GenericLoader.from_filesystem(\n",
    "#     \"/Users/sathya/Desktop/Rag/Electromagnetics_Vol1.pdf\",\n",
    "#     glob=\"*\",\n",
    "#     suffixes=[\".pdf\"],\n",
    "#     parser=GrobidParser(segment_sentences=False),\n",
    "# )\n",
    "loader = PyPDFLoader(\"/Users/sathya/Desktop/Rag/Electromagnetics_Vol1.pdf\")"
   ]
  },
  {
   "cell_type": "code",
   "execution_count": 29,
   "metadata": {},
   "outputs": [],
   "source": [
    "pages = loader.load()"
   ]
  },
  {
   "cell_type": "code",
   "execution_count": 30,
   "metadata": {},
   "outputs": [],
   "source": [
    "text_splitter = RecursiveCharacterTextSplitter(chunk_size=2000, chunk_overlap=500)"
   ]
  },
  {
   "cell_type": "code",
   "execution_count": 31,
   "metadata": {},
   "outputs": [],
   "source": [
    "from langchain.chains import QAGenerationChain\n",
    "docs = text_splitter.split_documents(pages)"
   ]
  },
  {
   "cell_type": "code",
   "execution_count": 32,
   "metadata": {},
   "outputs": [
    {
     "name": "stderr",
     "output_type": "stream",
     "text": [
      "/Users/sathya/Desktop/Rag/ragtest/lib/python3.9/site-packages/sentence_transformers/cross_encoder/CrossEncoder.py:11: TqdmWarning: IProgress not found. Please update jupyter and ipywidgets. See https://ipywidgets.readthedocs.io/en/stable/user_install.html\n",
      "  from tqdm.autonotebook import tqdm, trange\n"
     ]
    }
   ],
   "source": [
    "# embeddings = HuggingFaceEmbeddings(model_name=\"sentence-transformers/all-MiniLM-L6-v2\")\n",
    "# vectorstore = Chroma.from_documents(documents=docs, embedding=embeddings)\n",
    "# took 37s \n",
    "\n",
    "#from langchain.vectorstores import FAISS\n",
    "\n",
    "#vectorstore = FAISS.from_documents(documents=docs, embedding=HuggingFaceEmbeddings())\n",
    "#toook 36s \n",
    "#----------------------------------------\n",
    "\n",
    "fast_embeddings = HuggingFaceEmbeddings(model_name=\"sentence-transformers/all-MiniLM-L6-v2\")\n",
    "vectorstore = FAISS.from_documents(documents=docs, embedding=fast_embeddings)\n",
    "#fastest so far took 22s\n"
   ]
  },
  {
   "cell_type": "code",
   "execution_count": 9,
   "metadata": {},
   "outputs": [],
   "source": [
    "from langchain.vectorstores import FAISS\n",
    "from langchain.embeddings import HuggingFaceEmbeddings\n",
    "from tqdm.auto import tqdm\n",
    "\n",
    "# Initialize the embedding model\n",
    "# fast_embeddings = HuggingFaceEmbeddings(model_name=\"sentence-transformers/all-MiniLM-L6-v2\")\n",
    "\n",
    "\n",
    "# # Initialize vectorstore as None\n",
    "# vectorstore = None\n",
    "\n",
    "# # Process documents in batches\n",
    "# batch_size = 1000\n",
    "# for i in tqdm(range(0, len(docs), batch_size)):\n",
    "#     batch = docs[i:i+batch_size]\n",
    "    \n",
    "#     if vectorstore is None:\n",
    "#         # Create the vectorstore with the first batch\n",
    "#         vectorstore = FAISS.from_documents(batch, embedding=fast_embeddings)\n",
    "#     else:\n",
    "#         # Add subsequent batches to the existing vectorstore\n",
    "#         vectorstore.add_documents(batch)\n",
    "\n",
    "\n",
    "#Fastest so far, doing batch processing and done in 16s \n"
   ]
  },
  {
   "cell_type": "code",
   "execution_count": 33,
   "metadata": {},
   "outputs": [],
   "source": [
    "retriever = vectorstore.as_retriever(search_type=\"mmr\", search_kwargs={\"k\": 6, \"fetch_k\":20})\n"
   ]
  },
  {
   "cell_type": "code",
   "execution_count": 34,
   "metadata": {},
   "outputs": [],
   "source": [
    "def format_docs(docs):\n",
    "    return \"\\n\\n\".join(doc.page_content for doc in docs)\n"
   ]
  },
  {
   "cell_type": "code",
   "execution_count": 36,
   "metadata": {},
   "outputs": [],
   "source": [
    "\n",
    "question_gen_template = \"\"\"\n",
    "You are an expert in generating educational content and question generation. Your task is to create {number_questions} high-quality multiple-choice questions based on the following text. Be sure to generate questions from different areas of focus in your given text and do not stick to the same concept.\n",
    "\n",
    "IMPORTANT: DO NOT generate questions about specific section numbers, page numbers, or any metadata such as author names, publication dates, etc. Focus only on the core concepts and content related to electromagnetics.\n",
    "\n",
    "For each question:\n",
    "1. Identify key concepts or facts from the text.\n",
    "2. Formulate a clear and concise question based on these key concepts or facts.\n",
    "3. Generate exactly four distinct and plausible options labeled A, B, C and D. Ensure that only one option is correct.\n",
    "4. Provide sufficient context in the question so that it can be understood without referring to specific sections or equations.\n",
    "\n",
    "IMPORTANT: Generate diverse and unique questions. Do not repeat concepts or question types.\n",
    "Cover a wide range of topics from the given context.\n",
    "\n",
    "IMPORTANT: Generate exactly {number_questions} multiple-choice questions and do not summarise, generate exactly that number.\n",
    "\n",
    "Use this format for each question:\n",
    "Q: [Question text]\n",
    "A: [Option A]\n",
    "B: [Option B]\n",
    "C: [Option C]\n",
    "D: [Option D]\n",
    "Correct Answer: [A/B/C/D]\n",
    "\n",
    "Example of a good question:\n",
    "Q: What is the relationship between electric field and magnetic field in an electromagnetic wave?\n",
    "A: They are perpendicular to each other\n",
    "B: They are parallel to each other\n",
    "C: They are at a 45-degree angle to each other\n",
    "D: There is no relationship between them\n",
    "Correct Answer: A\n",
    "\n",
    "Example of a bad question:\n",
    "Q: What does section 5.1 talk about?\n",
    "\n",
    "\n",
    "Text:\n",
    "{context}\n",
    "\n",
    "Generate {number_questions} multiple-choice questions:\n",
    "\"\"\"\n",
    "\n",
    "\n",
    "custom_rag_prompt = PromptTemplate.from_template(question_gen_template)\n",
    "\n",
    "question_gen_chain = (\n",
    "    {\"context\": retriever | format_docs, \"number_questions\": RunnablePassthrough()}\n",
    "    | custom_rag_prompt\n",
    "    | llm\n",
    "    | StrOutputParser()\n",
    ")\n",
    "\n",
    "\n",
    "\n",
    "# retriever_chain = retriever | format_docs\n",
    "\n",
    "# # Define the question generation chain\n",
    "# question_gen_chain = (\n",
    "#     {\n",
    "#         \"context\": lambda _: retriever_chain.invoke(None),  # Invoke retriever with None input\n",
    "#         \"number_questions\": RunnablePassthrough()\n",
    "#     }\n",
    "#     | custom_rag_prompt\n",
    "#     | llm\n",
    "#     | StrOutputParser()\n",
    "# )\n"
   ]
  },
  {
   "cell_type": "code",
   "execution_count": 37,
   "metadata": {},
   "outputs": [],
   "source": [
    "questions = question_gen_chain.invoke(\"100\")\n",
    "#all_questions = []\n",
    "#num_questions = 100\n",
    "    "
   ]
  },
  {
   "cell_type": "code",
   "execution_count": 38,
   "metadata": {},
   "outputs": [
    {
     "name": "stdout",
     "output_type": "stream",
     "text": [
      "Here are the 100 multiple-choice questions based on the provided text:\n",
      "\n",
      "Q1: What is the conductivity of highly distilled water?\n",
      "A: 6µS/m\n",
      "B: 5S/m\n",
      "C: 5–50 mS/m\n",
      "D: 10−4S/m\n",
      "Correct Answer: A\n",
      "\n",
      "Q2: What is the relationship between electric field and magnetic field in an electromagnetic wave?\n",
      "A: They are perpendicular to each other\n",
      "B: They are parallel to each other\n",
      "C: They are at a 45-degree angle to each other\n",
      "D: There is no relationship between them\n",
      "Correct Answer: A\n",
      "\n",
      "Q3: What is the voltage reflection coefficient?\n",
      "A: Γ = ZL+Z0 / ZL-Z0\n",
      "B: Γ = ZL-Z0 / ZL+Z0\n",
      "C: Γ = Z0 / ZL\n",
      "D: Γ = ZL / Z0\n",
      "Correct Answer: B\n",
      "\n",
      "Q4: What is the purpose of impedance matching?\n",
      "A: To maximize power transfer\n",
      "B: To minimize reflection\n",
      "C: To transform a particular impedance into a modified impedance\n",
      "D: To connect devices with different impedances\n",
      "Correct Answer: C\n",
      "\n",
      "Q5: What is the characteristic impedance of coaxial cables?\n",
      "A: 50Ω\n",
      "B: 75Ω\n",
      "C: 100Ω\n",
      "D: 200Ω\n",
      "Correct Answer: A\n",
      "\n",
      "Q6: What is the phase velocity in microstrip?\n",
      "A: 3 × 10^8 m/s\n",
      "B: 2 × 10^8 m/s\n",
      "C: 1 × 10^8 m/s\n",
      "D: 4 × 10^8 m/s\n",
      "Correct Answer: A\n",
      "\n",
      "Q7: What is the definition of a phasor?\n",
      "A: A complex-valued function\n",
      "B: A sinusoidal waveform\n",
      "C: A vector quantity\n",
      "D: A scalar quantity\n",
      "Correct Answer: A\n",
      "\n",
      "Q8: What is the purpose of Fourier analysis?\n",
      "A: To analyze sinusoidal waveforms\n",
      "B: To analyze signals of arbitrary bandwidth\n",
      "C: To analyze narrowband signals\n",
      "D: To analyze wideband signals\n",
      "Correct Answer: B\n",
      "\n",
      "Q9: What is the unit of measurement for the radius of the Earth?\n",
      "A: Kilometers\n",
      "B: Meters\n",
      "C: Centimeters\n",
      "D: Millimeters\n",
      "Correct Answer: A\n",
      "\n",
      "Q10: What is the abbreviation for the prefix \"kilo-\"?\n",
      "A: k\n",
      "B: K\n",
      "C: kl\n",
      "D: kilo\n",
      "Correct Answer: A\n",
      "\n",
      "...and so on, up to 100 questions. Let me know if you need anything else!\n"
     ]
    }
   ],
   "source": [
    "print(questions)"
   ]
  },
  {
   "cell_type": "code",
   "execution_count": 15,
   "metadata": {},
   "outputs": [],
   "source": []
  },
  {
   "cell_type": "code",
   "execution_count": null,
   "metadata": {},
   "outputs": [],
   "source": []
  }
 ],
 "metadata": {
  "kernelspec": {
   "display_name": "ragtest",
   "language": "python",
   "name": "python3"
  },
  "language_info": {
   "codemirror_mode": {
    "name": "ipython",
    "version": 3
   },
   "file_extension": ".py",
   "mimetype": "text/x-python",
   "name": "python",
   "nbconvert_exporter": "python",
   "pygments_lexer": "ipython3",
   "version": "3.9.6"
  }
 },
 "nbformat": 4,
 "nbformat_minor": 2
}
